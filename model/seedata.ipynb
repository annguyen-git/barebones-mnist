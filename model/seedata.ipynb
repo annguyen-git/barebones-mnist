{
 "cells": [
  {
   "cell_type": "code",
   "execution_count": 17,
   "id": "c1f26f02",
   "metadata": {},
   "outputs": [],
   "source": [
    "import pandas as pd\n",
    "df = pd.read_csv('mnist/emnist_digits_train.csv')"
   ]
  },
  {
   "cell_type": "code",
   "execution_count": 18,
   "id": "47d5ae4d",
   "metadata": {},
   "outputs": [
    {
     "name": "stdout",
     "output_type": "stream",
     "text": [
      "<class 'pandas.core.frame.DataFrame'>\n",
      "RangeIndex: 239999 entries, 0 to 239998\n",
      "Columns: 785 entries, 8 to 0.0.520\n",
      "dtypes: float64(784), int64(1)\n",
      "memory usage: 1.4 GB\n"
     ]
    }
   ],
   "source": [
    "df.info()"
   ]
  },
  {
   "cell_type": "code",
   "execution_count": 19,
   "id": "2b1ae9d0",
   "metadata": {},
   "outputs": [
    {
     "data": {
      "text/html": [
       "<div>\n",
       "<style scoped>\n",
       "    .dataframe tbody tr th:only-of-type {\n",
       "        vertical-align: middle;\n",
       "    }\n",
       "\n",
       "    .dataframe tbody tr th {\n",
       "        vertical-align: top;\n",
       "    }\n",
       "\n",
       "    .dataframe thead th {\n",
       "        text-align: right;\n",
       "    }\n",
       "</style>\n",
       "<table border=\"1\" class=\"dataframe\">\n",
       "  <thead>\n",
       "    <tr style=\"text-align: right;\">\n",
       "      <th></th>\n",
       "      <th>8</th>\n",
       "      <th>0.0</th>\n",
       "      <th>0.0.1</th>\n",
       "      <th>0.0.2</th>\n",
       "      <th>0.0.3</th>\n",
       "      <th>0.0.4</th>\n",
       "      <th>0.0.5</th>\n",
       "      <th>0.0.6</th>\n",
       "      <th>0.0.7</th>\n",
       "      <th>0.0.8</th>\n",
       "      <th>...</th>\n",
       "      <th>0.0.511</th>\n",
       "      <th>0.0.512</th>\n",
       "      <th>0.0.513</th>\n",
       "      <th>0.0.514</th>\n",
       "      <th>0.0.515</th>\n",
       "      <th>0.0.516</th>\n",
       "      <th>0.0.517</th>\n",
       "      <th>0.0.518</th>\n",
       "      <th>0.0.519</th>\n",
       "      <th>0.0.520</th>\n",
       "    </tr>\n",
       "  </thead>\n",
       "  <tbody>\n",
       "    <tr>\n",
       "      <th>0</th>\n",
       "      <td>9</td>\n",
       "      <td>0.0</td>\n",
       "      <td>0.0</td>\n",
       "      <td>0.0</td>\n",
       "      <td>0.0</td>\n",
       "      <td>0.0</td>\n",
       "      <td>0.0</td>\n",
       "      <td>0.0</td>\n",
       "      <td>0.0</td>\n",
       "      <td>0.0</td>\n",
       "      <td>...</td>\n",
       "      <td>0.0</td>\n",
       "      <td>0.0</td>\n",
       "      <td>0.0</td>\n",
       "      <td>0.0</td>\n",
       "      <td>0.0</td>\n",
       "      <td>0.0</td>\n",
       "      <td>0.0</td>\n",
       "      <td>0.0</td>\n",
       "      <td>0.0</td>\n",
       "      <td>0.0</td>\n",
       "    </tr>\n",
       "    <tr>\n",
       "      <th>1</th>\n",
       "      <td>6</td>\n",
       "      <td>0.0</td>\n",
       "      <td>0.0</td>\n",
       "      <td>0.0</td>\n",
       "      <td>0.0</td>\n",
       "      <td>0.0</td>\n",
       "      <td>0.0</td>\n",
       "      <td>0.0</td>\n",
       "      <td>0.0</td>\n",
       "      <td>0.0</td>\n",
       "      <td>...</td>\n",
       "      <td>0.0</td>\n",
       "      <td>0.0</td>\n",
       "      <td>0.0</td>\n",
       "      <td>0.0</td>\n",
       "      <td>0.0</td>\n",
       "      <td>0.0</td>\n",
       "      <td>0.0</td>\n",
       "      <td>0.0</td>\n",
       "      <td>0.0</td>\n",
       "      <td>0.0</td>\n",
       "    </tr>\n",
       "    <tr>\n",
       "      <th>2</th>\n",
       "      <td>3</td>\n",
       "      <td>0.0</td>\n",
       "      <td>0.0</td>\n",
       "      <td>0.0</td>\n",
       "      <td>0.0</td>\n",
       "      <td>0.0</td>\n",
       "      <td>0.0</td>\n",
       "      <td>0.0</td>\n",
       "      <td>0.0</td>\n",
       "      <td>0.0</td>\n",
       "      <td>...</td>\n",
       "      <td>0.0</td>\n",
       "      <td>0.0</td>\n",
       "      <td>0.0</td>\n",
       "      <td>0.0</td>\n",
       "      <td>0.0</td>\n",
       "      <td>0.0</td>\n",
       "      <td>0.0</td>\n",
       "      <td>0.0</td>\n",
       "      <td>0.0</td>\n",
       "      <td>0.0</td>\n",
       "    </tr>\n",
       "    <tr>\n",
       "      <th>3</th>\n",
       "      <td>6</td>\n",
       "      <td>0.0</td>\n",
       "      <td>0.0</td>\n",
       "      <td>0.0</td>\n",
       "      <td>0.0</td>\n",
       "      <td>0.0</td>\n",
       "      <td>0.0</td>\n",
       "      <td>0.0</td>\n",
       "      <td>0.0</td>\n",
       "      <td>0.0</td>\n",
       "      <td>...</td>\n",
       "      <td>0.0</td>\n",
       "      <td>0.0</td>\n",
       "      <td>0.0</td>\n",
       "      <td>0.0</td>\n",
       "      <td>0.0</td>\n",
       "      <td>0.0</td>\n",
       "      <td>0.0</td>\n",
       "      <td>0.0</td>\n",
       "      <td>0.0</td>\n",
       "      <td>0.0</td>\n",
       "    </tr>\n",
       "    <tr>\n",
       "      <th>4</th>\n",
       "      <td>6</td>\n",
       "      <td>0.0</td>\n",
       "      <td>0.0</td>\n",
       "      <td>0.0</td>\n",
       "      <td>0.0</td>\n",
       "      <td>0.0</td>\n",
       "      <td>0.0</td>\n",
       "      <td>0.0</td>\n",
       "      <td>0.0</td>\n",
       "      <td>0.0</td>\n",
       "      <td>...</td>\n",
       "      <td>0.0</td>\n",
       "      <td>0.0</td>\n",
       "      <td>0.0</td>\n",
       "      <td>0.0</td>\n",
       "      <td>0.0</td>\n",
       "      <td>0.0</td>\n",
       "      <td>0.0</td>\n",
       "      <td>0.0</td>\n",
       "      <td>0.0</td>\n",
       "      <td>0.0</td>\n",
       "    </tr>\n",
       "  </tbody>\n",
       "</table>\n",
       "<p>5 rows × 785 columns</p>\n",
       "</div>"
      ],
      "text/plain": [
       "   8  0.0  0.0.1  0.0.2  0.0.3  0.0.4  0.0.5  0.0.6  0.0.7  0.0.8  ...  \\\n",
       "0  9  0.0    0.0    0.0    0.0    0.0    0.0    0.0    0.0    0.0  ...   \n",
       "1  6  0.0    0.0    0.0    0.0    0.0    0.0    0.0    0.0    0.0  ...   \n",
       "2  3  0.0    0.0    0.0    0.0    0.0    0.0    0.0    0.0    0.0  ...   \n",
       "3  6  0.0    0.0    0.0    0.0    0.0    0.0    0.0    0.0    0.0  ...   \n",
       "4  6  0.0    0.0    0.0    0.0    0.0    0.0    0.0    0.0    0.0  ...   \n",
       "\n",
       "   0.0.511  0.0.512  0.0.513  0.0.514  0.0.515  0.0.516  0.0.517  0.0.518  \\\n",
       "0      0.0      0.0      0.0      0.0      0.0      0.0      0.0      0.0   \n",
       "1      0.0      0.0      0.0      0.0      0.0      0.0      0.0      0.0   \n",
       "2      0.0      0.0      0.0      0.0      0.0      0.0      0.0      0.0   \n",
       "3      0.0      0.0      0.0      0.0      0.0      0.0      0.0      0.0   \n",
       "4      0.0      0.0      0.0      0.0      0.0      0.0      0.0      0.0   \n",
       "\n",
       "   0.0.519  0.0.520  \n",
       "0      0.0      0.0  \n",
       "1      0.0      0.0  \n",
       "2      0.0      0.0  \n",
       "3      0.0      0.0  \n",
       "4      0.0      0.0  \n",
       "\n",
       "[5 rows x 785 columns]"
      ]
     },
     "execution_count": 19,
     "metadata": {},
     "output_type": "execute_result"
    }
   ],
   "source": [
    "df.head()"
   ]
  },
  {
   "cell_type": "code",
   "execution_count": 21,
   "id": "c88eb2a4",
   "metadata": {},
   "outputs": [
    {
     "data": {
      "image/png": "[encoded data removed]",
      "text/plain": [
       "<Figure size 640x480 with 1 Axes>"
      ]
     },
     "metadata": {},
     "output_type": "display_data"
    }
   ],
   "source": [
    "labels = df.iloc[:, 0].values\n",
    "images = df.iloc[:, 1:].values\n",
    "import matplotlib.pyplot as plt\n",
    "plt.imshow(images[0].reshape(28, 28), cmap='gray')\n",
    "plt.title(f\"Label: {labels[0]}\")\n",
    "plt.show()"
   ]
  },
  {
   "cell_type": "code",
   "execution_count": 24,
   "id": "f5d986bc",
   "metadata": {},
   "outputs": [
    {
     "data": {
      "image/png": "[encoded data removed]",
      "text/plain": [
       "<Figure size 640x480 with 1 Axes>"
      ]
     },
     "metadata": {},
     "output_type": "display_data"
    }
   ],
   "source": [
    "threshold = 0.2\n",
    "binary_images = (images > threshold).astype(int)\n",
    "\n",
    "plt.imshow(binary_images[0].reshape(28, 28), cmap='gray')\n",
    "plt.title(f\"Label: {labels[0]}\")\n",
    "plt.show()"
   ]
  },
  {
   "cell_type": "code",
   "execution_count": 11,
   "id": "a2cd6a1c",
   "metadata": {},
   "outputs": [],
   "source": [
    "import os\n",
    "import numpy as np\n",
    "import pandas as pd\n",
    "import csv\n",
    "current_dir = os.getcwd()\n",
    "\n",
    "DATA_DIR = os.path.join(current_dir, \"mnist\")\n",
    "OUTPUT_DIR = os.path.join(os.path.dirname(current_dir), \"backend\", \"parameters\")"
   ]
  },
  {
   "cell_type": "code",
   "execution_count": 12,
   "id": "7b736861",
   "metadata": {},
   "outputs": [
    {
     "name": "stdout",
     "output_type": "stream",
     "text": [
      "/Users/an/Data_Engineering/projects/ml_from_scatch/model/mnist\n",
      "/Users/an/Data_Engineering/projects/ml_from_scatch/backend/parameters\n"
     ]
    }
   ],
   "source": [
    "print(DATA_DIR)\n",
    "print(OUTPUT_DIR)"
   ]
  },
  {
   "cell_type": "code",
   "execution_count": 13,
   "id": "2dc703af",
   "metadata": {},
   "outputs": [],
   "source": [
    "def load_mnist_csv(path):\n",
    "    df = pd.read_csv(path)\n",
    "    labels = df.iloc[:, 0].values\n",
    "    images = df.iloc[:, 1:].values\n",
    "    return images, labels\n",
    "\n",
    "def softmax(z):\n",
    "    exp_z = np.exp(z - np.max(z, axis=1, keepdims=True))\n",
    "    return exp_z / np.sum(exp_z, axis=1, keepdims=True)\n",
    "\n",
    "def one_hot_encode(labels, num_classes=10):\n",
    "    return np.eye(num_classes)[labels]\n",
    "\n",
    "def train(X, y, epochs=50, lr=0.1, batch_size=64):\n",
    "    num_samples, num_features = X.shape\n",
    "    num_classes = 10\n",
    "    # Initialize weights randomly\n",
    "    W = np.random.randn(num_features, num_classes) * 0.01\n",
    "    b = np.zeros(num_classes)\n",
    "    y_one_hot = one_hot_encode(y, num_classes)\n",
    "\n",
    "    for epoch in range(epochs):\n",
    "        # Shuffle data\n",
    "        perm = np.random.permutation(num_samples)\n",
    "        X_shuffled = X[perm]\n",
    "        y_shuffled = y_one_hot[perm]\n",
    "\n",
    "        for i in range(0, num_samples, batch_size):\n",
    "            X_batch = X_shuffled[i:i+batch_size]\n",
    "            y_batch = y_shuffled[i:i+batch_size]\n",
    "\n",
    "            scores = np.dot(X_batch, W) + b\n",
    "            probs = softmax(scores)\n",
    "\n",
    "            error = probs - y_batch\n",
    "            dW = np.dot(X_batch.T, error) / X_batch.shape[0]\n",
    "            db = np.mean(error, axis=0)\n",
    "\n",
    "            W -= lr * dW\n",
    "            b -= lr * db\n",
    "\n",
    "        if (epoch + 1) % 10 == 0:\n",
    "            # Compute loss on full data for logging\n",
    "            scores_full = np.dot(X, W) + b\n",
    "            probs_full = softmax(scores_full)\n",
    "            loss = -np.sum(y_one_hot * np.log(probs_full + 1e-9)) / num_samples\n",
    "            print(f\"Epoch {epoch+1}, Loss: {loss:.4f}\")\n",
    "\n",
    "    return W, b\n",
    "\n",
    "def predict(X, W, b):\n",
    "    scores = np.dot(X, W) + b\n",
    "    return np.argmax(scores, axis=1)\n",
    "\n",
    "def save_model_no_numpy(W, b):\n",
    "    with open(os.path.join(OUTPUT_DIR,\"mnist_model_weights.csv\"), \"w\", newline=\"\") as f:\n",
    "        writer = csv.writer(f)\n",
    "        writer.writerows(W)\n",
    "    with open(os.path.join(OUTPUT_DIR,\"mnist_model_biases.csv\"), \"w\", newline=\"\") as f:\n",
    "        writer = csv.writer(f)\n",
    "        writer.writerow(b)\n"
   ]
  },
  {
   "cell_type": "code",
   "execution_count": 14,
   "id": "c85132ce",
   "metadata": {},
   "outputs": [],
   "source": [
    "train_images, train_labels = load_mnist_csv(os.path.join(DATA_DIR, \"mnist_train.csv\"))\n",
    "test_images, test_labels = load_mnist_csv(os.path.join(DATA_DIR, \"mnist_test.csv\"))"
   ]
  },
  {
   "cell_type": "code",
   "execution_count": 15,
   "id": "73790fbe",
   "metadata": {},
   "outputs": [],
   "source": [
    "threshold = 51\n",
    "X_train = (train_images > threshold).astype(int)\n",
    "y_train = train_labels.astype(np.int64)\n",
    "\n",
    "X_test = (test_images > threshold).astype(int)\n",
    "y_test = test_labels.astype(np.int64)"
   ]
  },
  {
   "cell_type": "code",
   "execution_count": 16,
   "id": "d4803cf9",
   "metadata": {},
   "outputs": [
    {
     "data": {
      "image/png": "[encoded data removed]",
      "text/plain": [
       "<Figure size 640x480 with 1 Axes>"
      ]
     },
     "metadata": {},
     "output_type": "display_data"
    }
   ],
   "source": [
    "plt.imshow(X_train[0].reshape(28, 28), cmap='gray')\n",
    "plt.title(f\"Label: {y_train[0]}\")\n",
    "plt.show()"
   ]
  },
  {
   "cell_type": "code",
   "execution_count": 17,
   "id": "df60a4c3",
   "metadata": {},
   "outputs": [
    {
     "name": "stdout",
     "output_type": "stream",
     "text": [
      "Start training...\n",
      "Epoch 10, Loss: 0.2667\n",
      "Epoch 20, Loss: 0.2543\n",
      "Epoch 30, Loss: 0.2471\n",
      "Epoch 40, Loss: 0.2437\n",
      "Epoch 50, Loss: 0.2443\n",
      "Epoch 60, Loss: 0.2401\n",
      "Epoch 70, Loss: 0.2398\n",
      "Epoch 80, Loss: 0.2361\n",
      "Epoch 90, Loss: 0.2355\n",
      "Epoch 100, Loss: 0.2364\n",
      "Evaluating on test set...\n",
      "Test Accuracy: 91.71%\n"
     ]
    }
   ],
   "source": [
    "print(\"Start training...\")\n",
    "W, b = train(X_train, y_train, epochs=100, lr=0.1)\n",
    "\n",
    "print(\"Evaluating on test set...\")\n",
    "y_pred = predict(X_test, W, b)\n",
    "accuracy = np.mean(y_pred == y_test)\n",
    "print(f\"Test Accuracy: {accuracy * 100:.2f}%\")\n",
    "\n",
    "\n",
    "save_model_no_numpy(W, b)"
   ]
  },
  {
   "cell_type": "code",
   "execution_count": 13,
   "id": "c1f45f10",
   "metadata": {},
   "outputs": [
    {
     "name": "stdout",
     "output_type": "stream",
     "text": [
      "Image shape: torch.Size([1, 28, 28]), Label: 4\n"
     ]
    }
   ],
   "source": [
    "import torchvision\n",
    "from torchvision import transforms\n",
    "from torch.utils.data import DataLoader\n",
    "from PIL import Image\n",
    "\n",
    "transform = transforms.Compose([\n",
    "    transforms.Lambda(lambda img: img.rotate(-90).transpose(method=Image.FLIP_LEFT_RIGHT)),\n",
    "    transforms.ToTensor(),\n",
    "])\n",
    "\n",
    "emnist_train = torchvision.datasets.EMNIST(\n",
    "    root='./data',\n",
    "    split='digits',\n",
    "    train=True,\n",
    "    download=True,\n",
    "    transform=transform\n",
    ")\n",
    "\n",
    "emnist_test = torchvision.datasets.EMNIST(\n",
    "    root='./data',\n",
    "    split='digits',\n",
    "    train=False,\n",
    "    download=True,\n",
    "    transform=transform\n",
    ")\n",
    "\n",
    "train_loader = DataLoader(emnist_train, batch_size=64, shuffle=True)\n",
    "test_loader = DataLoader(emnist_test, batch_size=64, shuffle=False)\n",
    "\n",
    "\n",
    "images, labels = next(iter(train_loader))\n",
    "print(f\"Image shape: {images[0].shape}, Label: {labels[0]}\")\n"
   ]
  },
  {
   "cell_type": "code",
   "execution_count": 15,
   "id": "e708d4b4",
   "metadata": {},
   "outputs": [
    {
     "data": {
      "image/png": "[encoded data removed]",
      "text/plain": [
       "<Figure size 640x480 with 1 Axes>"
      ]
     },
     "metadata": {},
     "output_type": "display_data"
    }
   ],
   "source": [
    "import matplotlib.pyplot as plt\n",
    "plt.imshow(images[5].reshape(28, 28), cmap='gray')\n",
    "plt.title(f\"Label: {labels[5]}\")\n",
    "plt.show()"
   ]
  },
  {
   "cell_type": "code",
   "execution_count": 16,
   "id": "c368c0d7",
   "metadata": {},
   "outputs": [
    {
     "name": "stdout",
     "output_type": "stream",
     "text": [
      "Saving train set...\n",
      "Processed 0 samples\n",
      "Processed 10000 samples\n",
      "Processed 20000 samples\n",
      "Processed 30000 samples\n",
      "Processed 40000 samples\n",
      "Processed 50000 samples\n",
      "Processed 60000 samples\n",
      "Processed 70000 samples\n",
      "Processed 80000 samples\n",
      "Processed 90000 samples\n",
      "Processed 100000 samples\n",
      "Processed 110000 samples\n",
      "Processed 120000 samples\n",
      "Processed 130000 samples\n",
      "Processed 140000 samples\n",
      "Processed 150000 samples\n",
      "Processed 160000 samples\n",
      "Processed 170000 samples\n",
      "Processed 180000 samples\n",
      "Processed 190000 samples\n",
      "Processed 200000 samples\n",
      "Processed 210000 samples\n",
      "Processed 220000 samples\n",
      "Processed 230000 samples\n",
      "Saving test set...\n",
      "Processed 0 samples\n",
      "Processed 10000 samples\n",
      "Processed 20000 samples\n",
      "Processed 30000 samples\n",
      "Done!\n"
     ]
    }
   ],
   "source": [
    "import torchvision\n",
    "from torchvision import transforms\n",
    "from PIL import Image\n",
    "import csv\n",
    "import numpy as np\n",
    "\n",
    "transform = transforms.Compose([\n",
    "    transforms.Lambda(lambda img: img.rotate(-90).transpose(method=Image.FLIP_LEFT_RIGHT)),\n",
    "    transforms.ToTensor(),\n",
    "])\n",
    "\n",
    "def dataset_to_csv(dataset, filename):\n",
    "    with open(filename, mode='w', newline='') as f:\n",
    "        writer = csv.writer(f)\n",
    "        for i in range(len(dataset)):\n",
    "            img, label = dataset[i]\n",
    "            img_np = img.numpy().reshape(-1)\n",
    "            row = [label] + img_np.tolist()\n",
    "            writer.writerow(row)\n",
    "            if i % 10000 == 0:\n",
    "                print(f\"Processed {i} samples\")\n",
    "\n",
    "# Load datasets\n",
    "emnist_train = torchvision.datasets.EMNIST(\n",
    "    root='./data',\n",
    "    split='digits',\n",
    "    train=True,\n",
    "    download=True,\n",
    "    transform=transform\n",
    ")\n",
    "\n",
    "emnist_test = torchvision.datasets.EMNIST(\n",
    "    root='./data',\n",
    "    split='digits',\n",
    "    train=False,\n",
    "    download=True,\n",
    "    transform=transform\n",
    ")\n",
    "\n",
    "# Convert and save to CSV\n",
    "print(\"Saving train set...\")\n",
    "dataset_to_csv(emnist_train, 'emnist_digits_train.csv')\n",
    "\n",
    "print(\"Saving test set...\")\n",
    "dataset_to_csv(emnist_test, 'emnist_digits_test.csv')\n",
    "\n",
    "print(\"Done!\")\n"
   ]
  }
 ],
 "metadata": {
  "kernelspec": {
   "display_name": "base",
   "language": "python",
   "name": "python3"
  },
  "language_info": {
   "codemirror_mode": {
    "name": "ipython",
    "version": 3
   },
   "file_extension": ".py",
   "mimetype": "text/x-python",
   "name": "python",
   "nbconvert_exporter": "python",
   "pygments_lexer": "ipython3",
   "version": "3.12.4"
  }
 },
 "nbformat": 4,
 "nbformat_minor": 5
}
